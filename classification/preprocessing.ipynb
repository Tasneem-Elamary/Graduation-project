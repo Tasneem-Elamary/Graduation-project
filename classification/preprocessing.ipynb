{
 "cells": [
  {
   "cell_type": "markdown",
   "metadata": {},
   "source": [
    "## This Notebook gives performs Data Splitting and Resizing of Images (to load in Google Drive - Colab)"
   ]
  },
  {
   "cell_type": "markdown",
   "metadata": {},
   "source": [
    "#  <font color='red'>Table of Contents</font>"
   ]
  },
  {
   "cell_type": "markdown",
   "metadata": {},
   "source": [
    "[6. Train Validation Split](#section6)<br>\n",
    "[7. Resize and save](#section7)<br>\n",
    "[8. Image Pre Processing and save](#section8)<br>"
   ]
  },
  {
   "cell_type": "code",
   "execution_count": 21,
   "metadata": {},
   "outputs": [
    {
     "name": "stdout",
     "output_type": "stream",
     "text": [
      "CWD is  F:\\4th year\\GP\\code\\Blindness-Detection-Diabetic-Retinopathy--master\n"
     ]
    }
   ],
   "source": [
    "#ref - https://stackoverflow.com/questions/14463277/how-to-disable-python-warnings\n",
    "\n",
    "# Basic Libs..\n",
    "import multiprocessing\n",
    "from multiprocessing.pool import ThreadPool\n",
    "import warnings\n",
    "warnings.filterwarnings(\"ignore\")\n",
    "import pandas as pd\n",
    "import numpy as np\n",
    "from tqdm import tqdm,tqdm_notebook\n",
    "#from prettytable import PrettyTable\n",
    "import pickle\n",
    "import os\n",
    "print('CWD is ',os.getcwd())\n",
    "\n",
    "# Vis Libs..\n",
    "from sklearn.manifold import TSNE\n",
    "import seaborn as sns\n",
    "import matplotlib.pyplot as plt\n",
    "%matplotlib inline\n",
    "plt.rcParams[\"axes.grid\"] = False\n",
    "\n",
    "# Image Libs.\n",
    "from PIL import Image\n",
    "import cv2\n",
    "\n",
    "# sklearn libs..\n",
    "from sklearn.model_selection import train_test_split\n",
    "\n",
    "# DL Libs..\n",
    "import keras\n",
    "from keras import applications\n",
    "from keras.preprocessing.image import ImageDataGenerator\n",
    "from tensorflow.keras.utils import img_to_array,array_to_img,load_img\n",
    "from keras import optimizers,Model,Sequential\n",
    "from keras.layers import Input,GlobalAveragePooling2D,Dropout,Dense,Activation\n",
    "from keras.callbacks import EarlyStopping,ReduceLROnPlateau"
   ]
  },
  {
   "cell_type": "markdown",
   "metadata": {},
   "source": [
    "#  <a id = 'section6'> <font color='red'>  6. Train Validation Split</font> </a>"
   ]
  },
  {
   "cell_type": "code",
   "execution_count": 6,
   "metadata": {},
   "outputs": [],
   "source": [
    "'''\n",
    "This function reads data from the respective train and test directories\n",
    "'''\n",
    "\n",
    "def load_data():\n",
    "    train = pd.read_csv('train.csv')\n",
    "    test = pd.read_csv('test.csv')\n",
    "    \n",
    "    train_dir = os.path.join('./','train_images/')\n",
    "    test_dir = os.path.join('./','test_images/')\n",
    "    \n",
    "    train['file_path'] = train['id_code'].map(lambda x: os.path.join(train_dir,'{}.jpg'.format(x)))\n",
    "    test['file_path'] = test['id_code'].map(lambda x: os.path.join(test_dir,'{}.jpg'.format(x)))\n",
    "    \n",
    "    train['file_name'] = train[\"id_code\"].apply(lambda x: x + \".jpg\")\n",
    "    test['file_name'] = test[\"id_code\"].apply(lambda x: x + \".jpg\")\n",
    "    \n",
    "    train['diagnosis'] = train['diagnosis'].astype(str)\n",
    "    \n",
    "    return train,test"
   ]
  },
  {
   "cell_type": "code",
   "execution_count": 7,
   "metadata": {},
   "outputs": [
    {
     "name": "stdout",
     "output_type": "stream",
     "text": [
      "(413, 14) (103, 5) \n",
      "\n"
     ]
    },
    {
     "data": {
      "text/html": [
       "<div>\n",
       "<style scoped>\n",
       "    .dataframe tbody tr th:only-of-type {\n",
       "        vertical-align: middle;\n",
       "    }\n",
       "\n",
       "    .dataframe tbody tr th {\n",
       "        vertical-align: top;\n",
       "    }\n",
       "\n",
       "    .dataframe thead th {\n",
       "        text-align: right;\n",
       "    }\n",
       "</style>\n",
       "<table border=\"1\" class=\"dataframe\">\n",
       "  <thead>\n",
       "    <tr style=\"text-align: right;\">\n",
       "      <th></th>\n",
       "      <th>id_code</th>\n",
       "      <th>diagnosis</th>\n",
       "      <th>Risk of macular edema</th>\n",
       "      <th>Unnamed: 3</th>\n",
       "      <th>Unnamed: 4</th>\n",
       "      <th>Unnamed: 5</th>\n",
       "      <th>Unnamed: 6</th>\n",
       "      <th>Unnamed: 7</th>\n",
       "      <th>Unnamed: 8</th>\n",
       "      <th>Unnamed: 9</th>\n",
       "      <th>Unnamed: 10</th>\n",
       "      <th>Unnamed: 11</th>\n",
       "      <th>file_path</th>\n",
       "      <th>file_name</th>\n",
       "    </tr>\n",
       "  </thead>\n",
       "  <tbody>\n",
       "    <tr>\n",
       "      <th>0</th>\n",
       "      <td>IDRiD_001</td>\n",
       "      <td>3</td>\n",
       "      <td>2</td>\n",
       "      <td>NaN</td>\n",
       "      <td>NaN</td>\n",
       "      <td>NaN</td>\n",
       "      <td>NaN</td>\n",
       "      <td>NaN</td>\n",
       "      <td>NaN</td>\n",
       "      <td>NaN</td>\n",
       "      <td>NaN</td>\n",
       "      <td>NaN</td>\n",
       "      <td>./train_images/IDRiD_001.jpg</td>\n",
       "      <td>IDRiD_001.jpg</td>\n",
       "    </tr>\n",
       "    <tr>\n",
       "      <th>1</th>\n",
       "      <td>IDRiD_002</td>\n",
       "      <td>3</td>\n",
       "      <td>2</td>\n",
       "      <td>NaN</td>\n",
       "      <td>NaN</td>\n",
       "      <td>NaN</td>\n",
       "      <td>NaN</td>\n",
       "      <td>NaN</td>\n",
       "      <td>NaN</td>\n",
       "      <td>NaN</td>\n",
       "      <td>NaN</td>\n",
       "      <td>NaN</td>\n",
       "      <td>./train_images/IDRiD_002.jpg</td>\n",
       "      <td>IDRiD_002.jpg</td>\n",
       "    </tr>\n",
       "    <tr>\n",
       "      <th>2</th>\n",
       "      <td>IDRiD_003</td>\n",
       "      <td>2</td>\n",
       "      <td>2</td>\n",
       "      <td>NaN</td>\n",
       "      <td>NaN</td>\n",
       "      <td>NaN</td>\n",
       "      <td>NaN</td>\n",
       "      <td>NaN</td>\n",
       "      <td>NaN</td>\n",
       "      <td>NaN</td>\n",
       "      <td>NaN</td>\n",
       "      <td>NaN</td>\n",
       "      <td>./train_images/IDRiD_003.jpg</td>\n",
       "      <td>IDRiD_003.jpg</td>\n",
       "    </tr>\n",
       "    <tr>\n",
       "      <th>3</th>\n",
       "      <td>IDRiD_004</td>\n",
       "      <td>3</td>\n",
       "      <td>2</td>\n",
       "      <td>NaN</td>\n",
       "      <td>NaN</td>\n",
       "      <td>NaN</td>\n",
       "      <td>NaN</td>\n",
       "      <td>NaN</td>\n",
       "      <td>NaN</td>\n",
       "      <td>NaN</td>\n",
       "      <td>NaN</td>\n",
       "      <td>NaN</td>\n",
       "      <td>./train_images/IDRiD_004.jpg</td>\n",
       "      <td>IDRiD_004.jpg</td>\n",
       "    </tr>\n",
       "    <tr>\n",
       "      <th>4</th>\n",
       "      <td>IDRiD_005</td>\n",
       "      <td>4</td>\n",
       "      <td>0</td>\n",
       "      <td>NaN</td>\n",
       "      <td>NaN</td>\n",
       "      <td>NaN</td>\n",
       "      <td>NaN</td>\n",
       "      <td>NaN</td>\n",
       "      <td>NaN</td>\n",
       "      <td>NaN</td>\n",
       "      <td>NaN</td>\n",
       "      <td>NaN</td>\n",
       "      <td>./train_images/IDRiD_005.jpg</td>\n",
       "      <td>IDRiD_005.jpg</td>\n",
       "    </tr>\n",
       "    <tr>\n",
       "      <th>5</th>\n",
       "      <td>IDRiD_006</td>\n",
       "      <td>4</td>\n",
       "      <td>1</td>\n",
       "      <td>NaN</td>\n",
       "      <td>NaN</td>\n",
       "      <td>NaN</td>\n",
       "      <td>NaN</td>\n",
       "      <td>NaN</td>\n",
       "      <td>NaN</td>\n",
       "      <td>NaN</td>\n",
       "      <td>NaN</td>\n",
       "      <td>NaN</td>\n",
       "      <td>./train_images/IDRiD_006.jpg</td>\n",
       "      <td>IDRiD_006.jpg</td>\n",
       "    </tr>\n",
       "  </tbody>\n",
       "</table>\n",
       "</div>"
      ],
      "text/plain": [
       "     id_code diagnosis  Risk of macular edema   Unnamed: 3  Unnamed: 4  \\\n",
       "0  IDRiD_001         3                       2         NaN         NaN   \n",
       "1  IDRiD_002         3                       2         NaN         NaN   \n",
       "2  IDRiD_003         2                       2         NaN         NaN   \n",
       "3  IDRiD_004         3                       2         NaN         NaN   \n",
       "4  IDRiD_005         4                       0         NaN         NaN   \n",
       "5  IDRiD_006         4                       1         NaN         NaN   \n",
       "\n",
       "   Unnamed: 5  Unnamed: 6  Unnamed: 7  Unnamed: 8  Unnamed: 9  Unnamed: 10  \\\n",
       "0         NaN         NaN         NaN         NaN         NaN          NaN   \n",
       "1         NaN         NaN         NaN         NaN         NaN          NaN   \n",
       "2         NaN         NaN         NaN         NaN         NaN          NaN   \n",
       "3         NaN         NaN         NaN         NaN         NaN          NaN   \n",
       "4         NaN         NaN         NaN         NaN         NaN          NaN   \n",
       "5         NaN         NaN         NaN         NaN         NaN          NaN   \n",
       "\n",
       "  Unnamed: 11                     file_path      file_name  \n",
       "0         NaN  ./train_images/IDRiD_001.jpg  IDRiD_001.jpg  \n",
       "1         NaN  ./train_images/IDRiD_002.jpg  IDRiD_002.jpg  \n",
       "2         NaN  ./train_images/IDRiD_003.jpg  IDRiD_003.jpg  \n",
       "3         NaN  ./train_images/IDRiD_004.jpg  IDRiD_004.jpg  \n",
       "4         NaN  ./train_images/IDRiD_005.jpg  IDRiD_005.jpg  \n",
       "5         NaN  ./train_images/IDRiD_006.jpg  IDRiD_006.jpg  "
      ]
     },
     "execution_count": 7,
     "metadata": {},
     "output_type": "execute_result"
    }
   ],
   "source": [
    "df_train,df_test = load_data()\n",
    "print(df_train.shape,df_test.shape,'\\n')\n",
    "df_train.head(6)"
   ]
  },
  {
   "cell_type": "code",
   "execution_count": 22,
   "metadata": {},
   "outputs": [
    {
     "name": "stdout",
     "output_type": "stream",
     "text": [
      "(330, 14) (83, 14)\n"
     ]
    },
    {
     "data": {
      "text/html": [
       "<div>\n",
       "<style scoped>\n",
       "    .dataframe tbody tr th:only-of-type {\n",
       "        vertical-align: middle;\n",
       "    }\n",
       "\n",
       "    .dataframe tbody tr th {\n",
       "        vertical-align: top;\n",
       "    }\n",
       "\n",
       "    .dataframe thead th {\n",
       "        text-align: right;\n",
       "    }\n",
       "</style>\n",
       "<table border=\"1\" class=\"dataframe\">\n",
       "  <thead>\n",
       "    <tr style=\"text-align: right;\">\n",
       "      <th></th>\n",
       "      <th>id_code</th>\n",
       "      <th>diagnosis</th>\n",
       "      <th>Risk of macular edema</th>\n",
       "      <th>Unnamed: 3</th>\n",
       "      <th>Unnamed: 4</th>\n",
       "      <th>Unnamed: 5</th>\n",
       "      <th>Unnamed: 6</th>\n",
       "      <th>Unnamed: 7</th>\n",
       "      <th>Unnamed: 8</th>\n",
       "      <th>Unnamed: 9</th>\n",
       "      <th>Unnamed: 10</th>\n",
       "      <th>Unnamed: 11</th>\n",
       "      <th>file_path</th>\n",
       "      <th>file_name</th>\n",
       "    </tr>\n",
       "  </thead>\n",
       "  <tbody>\n",
       "    <tr>\n",
       "      <th>140</th>\n",
       "      <td>IDRiD_141</td>\n",
       "      <td>0</td>\n",
       "      <td>0</td>\n",
       "      <td>NaN</td>\n",
       "      <td>NaN</td>\n",
       "      <td>NaN</td>\n",
       "      <td>NaN</td>\n",
       "      <td>NaN</td>\n",
       "      <td>NaN</td>\n",
       "      <td>NaN</td>\n",
       "      <td>NaN</td>\n",
       "      <td>NaN</td>\n",
       "      <td>./train_images/IDRiD_141.jpg</td>\n",
       "      <td>IDRiD_141.jpg</td>\n",
       "    </tr>\n",
       "    <tr>\n",
       "      <th>407</th>\n",
       "      <td>IDRiD_408</td>\n",
       "      <td>1</td>\n",
       "      <td>0</td>\n",
       "      <td>NaN</td>\n",
       "      <td>NaN</td>\n",
       "      <td>NaN</td>\n",
       "      <td>NaN</td>\n",
       "      <td>NaN</td>\n",
       "      <td>NaN</td>\n",
       "      <td>NaN</td>\n",
       "      <td>NaN</td>\n",
       "      <td>NaN</td>\n",
       "      <td>./train_images/IDRiD_408.jpg</td>\n",
       "      <td>IDRiD_408.jpg</td>\n",
       "    </tr>\n",
       "    <tr>\n",
       "      <th>272</th>\n",
       "      <td>IDRiD_273</td>\n",
       "      <td>0</td>\n",
       "      <td>0</td>\n",
       "      <td>NaN</td>\n",
       "      <td>NaN</td>\n",
       "      <td>NaN</td>\n",
       "      <td>NaN</td>\n",
       "      <td>NaN</td>\n",
       "      <td>NaN</td>\n",
       "      <td>NaN</td>\n",
       "      <td>NaN</td>\n",
       "      <td>NaN</td>\n",
       "      <td>./train_images/IDRiD_273.jpg</td>\n",
       "      <td>IDRiD_273.jpg</td>\n",
       "    </tr>\n",
       "    <tr>\n",
       "      <th>262</th>\n",
       "      <td>IDRiD_263</td>\n",
       "      <td>2</td>\n",
       "      <td>1</td>\n",
       "      <td>NaN</td>\n",
       "      <td>NaN</td>\n",
       "      <td>NaN</td>\n",
       "      <td>NaN</td>\n",
       "      <td>NaN</td>\n",
       "      <td>NaN</td>\n",
       "      <td>NaN</td>\n",
       "      <td>NaN</td>\n",
       "      <td>NaN</td>\n",
       "      <td>./train_images/IDRiD_263.jpg</td>\n",
       "      <td>IDRiD_263.jpg</td>\n",
       "    </tr>\n",
       "    <tr>\n",
       "      <th>61</th>\n",
       "      <td>IDRiD_062</td>\n",
       "      <td>4</td>\n",
       "      <td>2</td>\n",
       "      <td>NaN</td>\n",
       "      <td>NaN</td>\n",
       "      <td>NaN</td>\n",
       "      <td>NaN</td>\n",
       "      <td>NaN</td>\n",
       "      <td>NaN</td>\n",
       "      <td>NaN</td>\n",
       "      <td>NaN</td>\n",
       "      <td>NaN</td>\n",
       "      <td>./train_images/IDRiD_062.jpg</td>\n",
       "      <td>IDRiD_062.jpg</td>\n",
       "    </tr>\n",
       "    <tr>\n",
       "      <th>267</th>\n",
       "      <td>IDRiD_268</td>\n",
       "      <td>0</td>\n",
       "      <td>0</td>\n",
       "      <td>NaN</td>\n",
       "      <td>NaN</td>\n",
       "      <td>NaN</td>\n",
       "      <td>NaN</td>\n",
       "      <td>NaN</td>\n",
       "      <td>NaN</td>\n",
       "      <td>NaN</td>\n",
       "      <td>NaN</td>\n",
       "      <td>NaN</td>\n",
       "      <td>./train_images/IDRiD_268.jpg</td>\n",
       "      <td>IDRiD_268.jpg</td>\n",
       "    </tr>\n",
       "  </tbody>\n",
       "</table>\n",
       "</div>"
      ],
      "text/plain": [
       "       id_code diagnosis  Risk of macular edema   Unnamed: 3  Unnamed: 4  \\\n",
       "140  IDRiD_141         0                       0         NaN         NaN   \n",
       "407  IDRiD_408         1                       0         NaN         NaN   \n",
       "272  IDRiD_273         0                       0         NaN         NaN   \n",
       "262  IDRiD_263         2                       1         NaN         NaN   \n",
       "61   IDRiD_062         4                       2         NaN         NaN   \n",
       "267  IDRiD_268         0                       0         NaN         NaN   \n",
       "\n",
       "     Unnamed: 5  Unnamed: 6  Unnamed: 7  Unnamed: 8  Unnamed: 9  Unnamed: 10  \\\n",
       "140         NaN         NaN         NaN         NaN         NaN          NaN   \n",
       "407         NaN         NaN         NaN         NaN         NaN          NaN   \n",
       "272         NaN         NaN         NaN         NaN         NaN          NaN   \n",
       "262         NaN         NaN         NaN         NaN         NaN          NaN   \n",
       "61          NaN         NaN         NaN         NaN         NaN          NaN   \n",
       "267         NaN         NaN         NaN         NaN         NaN          NaN   \n",
       "\n",
       "    Unnamed: 11                     file_path      file_name  \n",
       "140         NaN  ./train_images/IDRiD_141.jpg  IDRiD_141.jpg  \n",
       "407         NaN  ./train_images/IDRiD_408.jpg  IDRiD_408.jpg  \n",
       "272         NaN  ./train_images/IDRiD_273.jpg  IDRiD_273.jpg  \n",
       "262         NaN  ./train_images/IDRiD_263.jpg  IDRiD_263.jpg  \n",
       "61          NaN  ./train_images/IDRiD_062.jpg  IDRiD_062.jpg  \n",
       "267         NaN  ./train_images/IDRiD_268.jpg  IDRiD_268.jpg  "
      ]
     },
     "execution_count": 22,
     "metadata": {},
     "output_type": "execute_result"
    }
   ],
   "source": [
    "df_train_train,df_train_valid = train_test_split(df_train,test_size = 0.2)\n",
    "print(df_train_train.shape,df_train_valid.shape)\n",
    "df_train_valid.head(6)"
   ]
  },
  {
   "cell_type": "code",
   "execution_count": 15,
   "metadata": {},
   "outputs": [],
   "source": [
    "'''This Function Plots a Bar plot of output Classes Distribution'''\n",
    "\n",
    "def plot_classes(df,title):\n",
    "    df_group = pd.DataFrame(df.groupby('diagnosis').agg('size').reset_index())\n",
    "    df_group.columns = ['diagnosis','count']\n",
    "\n",
    "    sns.set(rc={'figure.figsize':(10,5)}, style = 'whitegrid')\n",
    "    sns.barplot(x = 'diagnosis',y='count',data = df_group,palette = \"Blues_d\")\n",
    "    plt.title('Output Class Distribution ' + str(title))\n",
    "    plt.show() "
   ]
  },
  {
   "cell_type": "code",
   "execution_count": 16,
   "metadata": {},
   "outputs": [
    {
     "data": {
      "image/png": "[encoded data removed]",
      "text/plain": [
       "<Figure size 720x360 with 1 Axes>"
      ]
     },
     "metadata": {},
     "output_type": "display_data"
    }
   ],
   "source": [
    "plot_classes(df_train_train,\"TRAIN DATA\")"
   ]
  },
  {
   "cell_type": "code",
   "execution_count": 17,
   "metadata": {},
   "outputs": [
    {
     "data": {
      "image/png": "[encoded data removed]",
      "text/plain": [
       "<Figure size 720x360 with 1 Axes>"
      ]
     },
     "metadata": {},
     "output_type": "display_data"
    }
   ],
   "source": [
    "plot_classes(df_train_valid,'VALIDATION DATA')"
   ]
  },
  {
   "cell_type": "code",
   "execution_count": 18,
   "metadata": {},
   "outputs": [
    {
     "data": {
      "text/plain": [
       "\"\\nfile = open('df_train_train', 'wb')\\npickle.dump(df_train_train, file)\\nfile.close()\\n\\nfile = open('df_train_test', 'wb')\\npickle.dump(df_train_test, file)\\nfile.close()\\n\""
      ]
     },
     "execution_count": 18,
     "metadata": {},
     "output_type": "execute_result"
    }
   ],
   "source": [
    "'''\n",
    "file = open('df_train_train', 'wb')\n",
    "pickle.dump(df_train_train, file)\n",
    "file.close()\n",
    "\n",
    "file = open('df_train_test', 'wb')\n",
    "pickle.dump(df_train_test, file)\n",
    "file.close()\n",
    "'''"
   ]
  },
  {
   "cell_type": "code",
   "execution_count": 19,
   "metadata": {},
   "outputs": [
    {
     "ename": "FileNotFoundError",
     "evalue": "[Errno 2] No such file or directory: 'df_train_train'",
     "output_type": "error",
     "traceback": [
      "\u001b[1;31m---------------------------------------------------------------------------\u001b[0m",
      "\u001b[1;31mFileNotFoundError\u001b[0m                         Traceback (most recent call last)",
      "Input \u001b[1;32mIn [19]\u001b[0m, in \u001b[0;36m<cell line: 1>\u001b[1;34m()\u001b[0m\n\u001b[1;32m----> 1\u001b[0m file \u001b[38;5;241m=\u001b[39m \u001b[38;5;28;43mopen\u001b[39;49m\u001b[43m(\u001b[49m\u001b[38;5;124;43m'\u001b[39;49m\u001b[38;5;124;43mdf_train_train\u001b[39;49m\u001b[38;5;124;43m'\u001b[39;49m\u001b[43m,\u001b[49m\u001b[43m \u001b[49m\u001b[38;5;124;43m'\u001b[39;49m\u001b[38;5;124;43mrb\u001b[39;49m\u001b[38;5;124;43m'\u001b[39;49m\u001b[43m)\u001b[49m\n\u001b[0;32m      2\u001b[0m df_train_train \u001b[38;5;241m=\u001b[39m pickle\u001b[38;5;241m.\u001b[39mload(file)\n\u001b[0;32m      3\u001b[0m file\u001b[38;5;241m.\u001b[39mclose()\n",
      "\u001b[1;31mFileNotFoundError\u001b[0m: [Errno 2] No such file or directory: 'df_train_train'"
     ]
    }
   ],
   "source": [
    "file = open('df_train_train', 'rb')\n",
    "df_train_train = pickle.load(file)\n",
    "file.close()\n",
    "\n",
    "file = open('df_train_test', 'rb')\n",
    "df_train_test = pickle.load(file)\n",
    "file.close()"
   ]
  },
  {
   "cell_type": "code",
   "execution_count": 20,
   "metadata": {},
   "outputs": [
    {
     "ename": "NameError",
     "evalue": "name 'df_train_test' is not defined",
     "output_type": "error",
     "traceback": [
      "\u001b[1;31m---------------------------------------------------------------------------\u001b[0m",
      "\u001b[1;31mNameError\u001b[0m                                 Traceback (most recent call last)",
      "Input \u001b[1;32mIn [20]\u001b[0m, in \u001b[0;36m<cell line: 1>\u001b[1;34m()\u001b[0m\n\u001b[1;32m----> 1\u001b[0m \u001b[38;5;28mprint\u001b[39m(df_train_train\u001b[38;5;241m.\u001b[39mshape,\u001b[43mdf_train_test\u001b[49m\u001b[38;5;241m.\u001b[39mshape)\n\u001b[0;32m      2\u001b[0m \u001b[38;5;28mprint\u001b[39m(\u001b[38;5;28mlen\u001b[39m(os\u001b[38;5;241m.\u001b[39mlistdir(\u001b[38;5;124m'\u001b[39m\u001b[38;5;124m./train_images_resized_preprocessed\u001b[39m\u001b[38;5;124m'\u001b[39m)),\u001b[38;5;28mlen\u001b[39m(os\u001b[38;5;241m.\u001b[39mlistdir(\u001b[38;5;124m'\u001b[39m\u001b[38;5;124m./test_images_resized_preprocessed\u001b[39m\u001b[38;5;124m'\u001b[39m)))\n",
      "\u001b[1;31mNameError\u001b[0m: name 'df_train_test' is not defined"
     ]
    }
   ],
   "source": [
    "print(df_train_train.shape,df_train_test.shape)\n",
    "print(len(os.listdir('./train_images_resized_preprocessed')),len(os.listdir('./test_images_resized_preprocessed')))"
   ]
  },
  {
   "cell_type": "markdown",
   "metadata": {},
   "source": [
    "#  <a id = 'section7'> <font color='red'>  7. Resize and Save</font> </a>"
   ]
  },
  {
   "cell_type": "code",
   "execution_count": 23,
   "metadata": {},
   "outputs": [],
   "source": [
    "IMG_SIZE  = 512"
   ]
  },
  {
   "cell_type": "code",
   "execution_count": 36,
   "metadata": {},
   "outputs": [],
   "source": [
    "'''Function loads an image from Folder , Resizes and saves in another directory '''\n",
    "\n",
    "def image_resize_save(file):\n",
    "    input_filepath = os.path.join('./','train_images','{}.jpg'.format(file))\n",
    "    output_filepath = os.path.join('./','valid_images_resized','{}.jpg'.format(file))\n",
    "    \n",
    "    img = cv2.imread(input_filepath)\n",
    "    cv2.imwrite(output_filepath, cv2.resize(img, (IMG_SIZE,IMG_SIZE)))\n",
    "#image_resize_save(df_train.id_code.iloc[201])"
   ]
  },
  {
   "cell_type": "code",
   "execution_count": 37,
   "metadata": {},
   "outputs": [
    {
     "name": "stdout",
     "output_type": "stream",
     "text": [
      "./valid_images_resized\\IDRiD_141.jpg\n",
      "./valid_images_resized\\IDRiD_408.jpg\n",
      "./valid_images_resized\\IDRiD_273.jpg\n",
      "./valid_images_resized\\IDRiD_263.jpg\n",
      "./valid_images_resized\\IDRiD_062.jpg\n",
      "./valid_images_resized\\IDRiD_268.jpg\n",
      "./valid_images_resized\\IDRiD_152.jpg\n",
      "./valid_images_resized\\IDRiD_010.jpg\n",
      "./valid_images_resized\\IDRiD_157.jpg\n",
      "./valid_images_resized\\IDRiD_368.jpg\n",
      "./valid_images_resized\\IDRiD_344.jpg\n",
      "./valid_images_resized\\IDRiD_276.jpg\n",
      "./valid_images_resized\\IDRiD_307.jpg\n",
      "./valid_images_resized\\IDRiD_240.jpg\n",
      "./valid_images_resized\\IDRiD_149.jpg\n",
      "./valid_images_resized\\IDRiD_248.jpg\n",
      "./valid_images_resized\\IDRiD_182.jpg\n",
      "./valid_images_resized\\IDRiD_127.jpg\n",
      "./valid_images_resized\\IDRiD_189.jpg\n",
      "./valid_images_resized\\IDRiD_233.jpg\n",
      "./valid_images_resized\\IDRiD_213.jpg\n",
      "./valid_images_resized\\IDRiD_370.jpg\n",
      "./valid_images_resized\\IDRiD_223.jpg\n",
      "./valid_images_resized\\IDRiD_061.jpg\n",
      "./valid_images_resized\\IDRiD_376.jpg\n",
      "./valid_images_resized\\IDRiD_159.jpg\n",
      "./valid_images_resized\\IDRiD_342.jpg\n",
      "./valid_images_resized\\IDRiD_170.jpg\n",
      "./valid_images_resized\\IDRiD_099.jpg\n",
      "./valid_images_resized\\IDRiD_102.jpg\n",
      "./valid_images_resized\\IDRiD_056.jpg\n",
      "./valid_images_resized\\IDRiD_080.jpg\n",
      "./valid_images_resized\\IDRiD_144.jpg\n",
      "./valid_images_resized\\IDRiD_150.jpg\n",
      "./valid_images_resized\\IDRiD_384.jpg\n",
      "./valid_images_resized\\IDRiD_108.jpg\n",
      "./valid_images_resized\\IDRiD_192.jpg\n",
      "./valid_images_resized\\IDRiD_394.jpg\n",
      "./valid_images_resized\\IDRiD_311.jpg\n",
      "./valid_images_resized\\IDRiD_230.jpg\n",
      "./valid_images_resized\\IDRiD_242.jpg\n",
      "./valid_images_resized\\IDRiD_180.jpg\n",
      "./valid_images_resized\\IDRiD_383.jpg\n",
      "./valid_images_resized\\IDRiD_168.jpg\n",
      "./valid_images_resized\\IDRiD_215.jpg\n",
      "./valid_images_resized\\IDRiD_298.jpg\n",
      "./valid_images_resized\\IDRiD_139.jpg\n",
      "./valid_images_resized\\IDRiD_100.jpg\n",
      "./valid_images_resized\\IDRiD_396.jpg\n",
      "./valid_images_resized\\IDRiD_117.jpg\n",
      "./valid_images_resized\\IDRiD_046.jpg\n",
      "./valid_images_resized\\IDRiD_084.jpg\n",
      "./valid_images_resized\\IDRiD_380.jpg\n",
      "./valid_images_resized\\IDRiD_016.jpg\n",
      "./valid_images_resized\\IDRiD_074.jpg\n",
      "./valid_images_resized\\IDRiD_335.jpg\n",
      "./valid_images_resized\\IDRiD_350.jpg\n",
      "./valid_images_resized\\IDRiD_165.jpg\n",
      "./valid_images_resized\\IDRiD_239.jpg\n",
      "./valid_images_resized\\IDRiD_363.jpg\n",
      "./valid_images_resized\\IDRiD_210.jpg\n",
      "./valid_images_resized\\IDRiD_319.jpg\n",
      "./valid_images_resized\\IDRiD_391.jpg\n",
      "./valid_images_resized\\IDRiD_337.jpg\n",
      "./valid_images_resized\\IDRiD_266.jpg\n",
      "./valid_images_resized\\IDRiD_044.jpg\n",
      "./valid_images_resized\\IDRiD_112.jpg\n",
      "./valid_images_resized\\IDRiD_012.jpg\n",
      "./valid_images_resized\\IDRiD_358.jpg\n",
      "./valid_images_resized\\IDRiD_411.jpg\n",
      "./valid_images_resized\\IDRiD_114.jpg\n",
      "./valid_images_resized\\IDRiD_017.jpg\n",
      "./valid_images_resized\\IDRiD_143.jpg\n",
      "./valid_images_resized\\IDRiD_115.jpg\n",
      "./valid_images_resized\\IDRiD_286.jpg\n",
      "./valid_images_resized\\IDRiD_047.jpg\n",
      "./valid_images_resized\\IDRiD_336.jpg\n",
      "./valid_images_resized\\IDRiD_249.jpg\n",
      "./valid_images_resized\\IDRiD_348.jpg\n",
      "./valid_images_resized\\IDRiD_295.jpg\n",
      "./valid_images_resized\\IDRiD_340.jpg\n",
      "./valid_images_resized\\IDRiD_243.jpg\n",
      "./valid_images_resized\\IDRiD_063.jpg\n"
     ]
    }
   ],
   "source": [
    "for file in df_train_valid.id_code.values:\n",
    "   \n",
    "    image_resize_save(file)"
   ]
  },
  {
   "cell_type": "code",
   "execution_count": 25,
   "metadata": {},
   "outputs": [],
   "source": [
    "'''This Function uses Multi processing for faster saving of images into folder'''\n",
    "\n",
    "def multiprocess_image_downloader(process:int, imgs:list):\n",
    "    \"\"\"\n",
    "    Inputs:\n",
    "        process: (int) number of process to run\n",
    "        imgs:(list) list of images\n",
    "    \"\"\"\n",
    "    print(f'MESSAGE: Running {process} process')\n",
    "    results = ThreadPool(process).map(image_resize_save, imgs)\n",
    "    return results"
   ]
  },
  {
   "cell_type": "code",
   "execution_count": 26,
   "metadata": {},
   "outputs": [
    {
     "name": "stdout",
     "output_type": "stream",
     "text": [
      "MESSAGE: Running 6 process\n"
     ]
    },
    {
     "ename": "error",
     "evalue": "OpenCV(4.6.0) D:\\a\\opencv-python\\opencv-python\\opencv\\modules\\imgproc\\src\\resize.cpp:4052: error: (-215:Assertion failed) !ssize.empty() in function 'cv::resize'\n",
     "output_type": "error",
     "traceback": [
      "\u001b[1;31m---------------------------------------------------------------------------\u001b[0m",
      "\u001b[1;31merror\u001b[0m                                     Traceback (most recent call last)",
      "Input \u001b[1;32mIn [26]\u001b[0m, in \u001b[0;36m<cell line: 2>\u001b[1;34m()\u001b[0m\n\u001b[0;32m      1\u001b[0m \u001b[38;5;66;03m# Use 6 cores\u001b[39;00m\n\u001b[1;32m----> 2\u001b[0m \u001b[43mmultiprocess_image_downloader\u001b[49m\u001b[43m(\u001b[49m\u001b[38;5;241;43m6\u001b[39;49m\u001b[43m,\u001b[49m\u001b[43m \u001b[49m\u001b[38;5;28;43mlist\u001b[39;49m\u001b[43m(\u001b[49m\u001b[43mdf_train_valid\u001b[49m\u001b[38;5;241;43m.\u001b[39;49m\u001b[43mid_code\u001b[49m\u001b[38;5;241;43m.\u001b[39;49m\u001b[43mvalues\u001b[49m\u001b[43m)\u001b[49m\u001b[43m)\u001b[49m\n",
      "Input \u001b[1;32mIn [25]\u001b[0m, in \u001b[0;36mmultiprocess_image_downloader\u001b[1;34m(process, imgs)\u001b[0m\n\u001b[0;32m      4\u001b[0m \u001b[38;5;124;03m\"\"\"\u001b[39;00m\n\u001b[0;32m      5\u001b[0m \u001b[38;5;124;03mInputs:\u001b[39;00m\n\u001b[0;32m      6\u001b[0m \u001b[38;5;124;03m    process: (int) number of process to run\u001b[39;00m\n\u001b[0;32m      7\u001b[0m \u001b[38;5;124;03m    imgs:(list) list of images\u001b[39;00m\n\u001b[0;32m      8\u001b[0m \u001b[38;5;124;03m\"\"\"\u001b[39;00m\n\u001b[0;32m      9\u001b[0m \u001b[38;5;28mprint\u001b[39m(\u001b[38;5;124mf\u001b[39m\u001b[38;5;124m'\u001b[39m\u001b[38;5;124mMESSAGE: Running \u001b[39m\u001b[38;5;132;01m{\u001b[39;00mprocess\u001b[38;5;132;01m}\u001b[39;00m\u001b[38;5;124m process\u001b[39m\u001b[38;5;124m'\u001b[39m)\n\u001b[1;32m---> 10\u001b[0m results \u001b[38;5;241m=\u001b[39m \u001b[43mThreadPool\u001b[49m\u001b[43m(\u001b[49m\u001b[43mprocess\u001b[49m\u001b[43m)\u001b[49m\u001b[38;5;241;43m.\u001b[39;49m\u001b[43mmap\u001b[49m\u001b[43m(\u001b[49m\u001b[43mimage_resize_save\u001b[49m\u001b[43m,\u001b[49m\u001b[43m \u001b[49m\u001b[43mimgs\u001b[49m\u001b[43m)\u001b[49m\n\u001b[0;32m     11\u001b[0m \u001b[38;5;28;01mreturn\u001b[39;00m results\n",
      "File \u001b[1;32m~\\anaconda3\\lib\\multiprocessing\\pool.py:364\u001b[0m, in \u001b[0;36mPool.map\u001b[1;34m(self, func, iterable, chunksize)\u001b[0m\n\u001b[0;32m    359\u001b[0m \u001b[38;5;28;01mdef\u001b[39;00m \u001b[38;5;21mmap\u001b[39m(\u001b[38;5;28mself\u001b[39m, func, iterable, chunksize\u001b[38;5;241m=\u001b[39m\u001b[38;5;28;01mNone\u001b[39;00m):\n\u001b[0;32m    360\u001b[0m     \u001b[38;5;124;03m'''\u001b[39;00m\n\u001b[0;32m    361\u001b[0m \u001b[38;5;124;03m    Apply `func` to each element in `iterable`, collecting the results\u001b[39;00m\n\u001b[0;32m    362\u001b[0m \u001b[38;5;124;03m    in a list that is returned.\u001b[39;00m\n\u001b[0;32m    363\u001b[0m \u001b[38;5;124;03m    '''\u001b[39;00m\n\u001b[1;32m--> 364\u001b[0m     \u001b[38;5;28;01mreturn\u001b[39;00m \u001b[38;5;28;43mself\u001b[39;49m\u001b[38;5;241;43m.\u001b[39;49m\u001b[43m_map_async\u001b[49m\u001b[43m(\u001b[49m\u001b[43mfunc\u001b[49m\u001b[43m,\u001b[49m\u001b[43m \u001b[49m\u001b[43miterable\u001b[49m\u001b[43m,\u001b[49m\u001b[43m \u001b[49m\u001b[43mmapstar\u001b[49m\u001b[43m,\u001b[49m\u001b[43m \u001b[49m\u001b[43mchunksize\u001b[49m\u001b[43m)\u001b[49m\u001b[38;5;241;43m.\u001b[39;49m\u001b[43mget\u001b[49m\u001b[43m(\u001b[49m\u001b[43m)\u001b[49m\n",
      "File \u001b[1;32m~\\anaconda3\\lib\\multiprocessing\\pool.py:771\u001b[0m, in \u001b[0;36mApplyResult.get\u001b[1;34m(self, timeout)\u001b[0m\n\u001b[0;32m    769\u001b[0m     \u001b[38;5;28;01mreturn\u001b[39;00m \u001b[38;5;28mself\u001b[39m\u001b[38;5;241m.\u001b[39m_value\n\u001b[0;32m    770\u001b[0m \u001b[38;5;28;01melse\u001b[39;00m:\n\u001b[1;32m--> 771\u001b[0m     \u001b[38;5;28;01mraise\u001b[39;00m \u001b[38;5;28mself\u001b[39m\u001b[38;5;241m.\u001b[39m_value\n",
      "File \u001b[1;32m~\\anaconda3\\lib\\multiprocessing\\pool.py:125\u001b[0m, in \u001b[0;36mworker\u001b[1;34m(inqueue, outqueue, initializer, initargs, maxtasks, wrap_exception)\u001b[0m\n\u001b[0;32m    123\u001b[0m job, i, func, args, kwds \u001b[38;5;241m=\u001b[39m task\n\u001b[0;32m    124\u001b[0m \u001b[38;5;28;01mtry\u001b[39;00m:\n\u001b[1;32m--> 125\u001b[0m     result \u001b[38;5;241m=\u001b[39m (\u001b[38;5;28;01mTrue\u001b[39;00m, func(\u001b[38;5;241m*\u001b[39margs, \u001b[38;5;241m*\u001b[39m\u001b[38;5;241m*\u001b[39mkwds))\n\u001b[0;32m    126\u001b[0m \u001b[38;5;28;01mexcept\u001b[39;00m \u001b[38;5;167;01mException\u001b[39;00m \u001b[38;5;28;01mas\u001b[39;00m e:\n\u001b[0;32m    127\u001b[0m     \u001b[38;5;28;01mif\u001b[39;00m wrap_exception \u001b[38;5;129;01mand\u001b[39;00m func \u001b[38;5;129;01mis\u001b[39;00m \u001b[38;5;129;01mnot\u001b[39;00m _helper_reraises_exception:\n",
      "File \u001b[1;32m~\\anaconda3\\lib\\multiprocessing\\pool.py:48\u001b[0m, in \u001b[0;36mmapstar\u001b[1;34m(args)\u001b[0m\n\u001b[0;32m     47\u001b[0m \u001b[38;5;28;01mdef\u001b[39;00m \u001b[38;5;21mmapstar\u001b[39m(args):\n\u001b[1;32m---> 48\u001b[0m     \u001b[38;5;28;01mreturn\u001b[39;00m \u001b[38;5;28;43mlist\u001b[39;49m\u001b[43m(\u001b[49m\u001b[38;5;28;43mmap\u001b[39;49m\u001b[43m(\u001b[49m\u001b[38;5;241;43m*\u001b[39;49m\u001b[43margs\u001b[49m\u001b[43m)\u001b[49m\u001b[43m)\u001b[49m\n",
      "Input \u001b[1;32mIn [24]\u001b[0m, in \u001b[0;36mimage_resize_save\u001b[1;34m(file)\u001b[0m\n\u001b[0;32m      5\u001b[0m output_filepath \u001b[38;5;241m=\u001b[39m os\u001b[38;5;241m.\u001b[39mpath\u001b[38;5;241m.\u001b[39mjoin(\u001b[38;5;124m'\u001b[39m\u001b[38;5;124m./\u001b[39m\u001b[38;5;124m'\u001b[39m,\u001b[38;5;124m'\u001b[39m\u001b[38;5;124mvalid_images_resized\u001b[39m\u001b[38;5;124m'\u001b[39m,\u001b[38;5;124m'\u001b[39m\u001b[38;5;132;01m{}\u001b[39;00m\u001b[38;5;124m.png\u001b[39m\u001b[38;5;124m'\u001b[39m\u001b[38;5;241m.\u001b[39mformat(file))\n\u001b[0;32m      6\u001b[0m img \u001b[38;5;241m=\u001b[39m cv2\u001b[38;5;241m.\u001b[39mimread(input_filepath)\n\u001b[1;32m----> 7\u001b[0m cv2\u001b[38;5;241m.\u001b[39mimwrite(output_filepath, \u001b[43mcv2\u001b[49m\u001b[38;5;241;43m.\u001b[39;49m\u001b[43mresize\u001b[49m\u001b[43m(\u001b[49m\u001b[43mimg\u001b[49m\u001b[43m,\u001b[49m\u001b[43m \u001b[49m\u001b[43m(\u001b[49m\u001b[43mIMG_SIZE\u001b[49m\u001b[43m,\u001b[49m\u001b[43mIMG_SIZE\u001b[49m\u001b[43m)\u001b[49m\u001b[43m)\u001b[49m)\n",
      "\u001b[1;31merror\u001b[0m: OpenCV(4.6.0) D:\\a\\opencv-python\\opencv-python\\opencv\\modules\\imgproc\\src\\resize.cpp:4052: error: (-215:Assertion failed) !ssize.empty() in function 'cv::resize'\n"
     ]
    }
   ],
   "source": [
    "# Use 6 cores\n",
    "#multiprocess_image_downloader(6, list(df_train_valid.id_code.values))"
   ]
  },
  {
   "cell_type": "markdown",
   "metadata": {},
   "source": [
    "##### Summary - Using Multiprocessing (6 cores), we managed to resize and save images within 10 minutes, and reducing IMG_SIZE to 512, thereby reducing disk-space from 20 GB (earlier) to 1 GB (after resizing). We shall load data into colab and start training models"
   ]
  },
  {
   "cell_type": "markdown",
   "metadata": {},
   "source": [
    "#  <a id = 'section8'> <font color='red'>  8. Image Pre Processing and save</font> </a>"
   ]
  },
  {
   "cell_type": "code",
   "execution_count": 62,
   "metadata": {},
   "outputs": [],
   "source": [
    "def crop_image_from_gray(img,tol=7):\n",
    "    if img.ndim ==2:\n",
    "        mask = img>tol\n",
    "        return img[np.ix_(mask.any(1),mask.any(0))]\n",
    "    elif img.ndim==3:\n",
    "        gray_img = cv2.cvtColor(img, cv2.COLOR_RGB2GRAY)\n",
    "        mask = gray_img>tol\n",
    "        \n",
    "        check_shape = img[:,:,0][np.ix_(mask.any(1),mask.any(0))].shape[0]\n",
    "        if (check_shape == 0): # image is too dark so that we crop out everything,\n",
    "            return img # return original image\n",
    "        else:\n",
    "            img1=img[:,:,0][np.ix_(mask.any(1),mask.any(0))]\n",
    "            img2=img[:,:,1][np.ix_(mask.any(1),mask.any(0))]\n",
    "            img3=img[:,:,2][np.ix_(mask.any(1),mask.any(0))]\n",
    "    #         print(img1.shape,img2.shape,img3.shape)\n",
    "            img = np.stack([img1,img2,img3],axis=-1)\n",
    "    #         print(img.shape)\n",
    "        return img\n",
    "\n",
    "def circle_crop(img, sigmaX = 30):   \n",
    "    \"\"\"\n",
    "    Create circular crop around image centre    \n",
    "    \"\"\"    \n",
    "    img = crop_image_from_gray(img)    \n",
    "    img = cv2.cvtColor(img, cv2.COLOR_BGR2RGB)\n",
    "    \n",
    "    height, width, depth = img.shape    \n",
    "    \n",
    "    x = int(width/2)\n",
    "    y = int(height/2)\n",
    "    r = np.amin((x,y))\n",
    "    \n",
    "    circle_img = np.zeros((height, width), np.uint8)\n",
    "    cv2.circle(circle_img, (x,y), int(r), 1, thickness=-1)\n",
    "    img = cv2.bitwise_and(img, img, mask=circle_img)\n",
    "    img = crop_image_from_gray(img)\n",
    "    img=cv2.addWeighted(img,4, cv2.GaussianBlur( img , (0,0) , sigmaX) ,-4 ,128)\n",
    "    return img \n",
    "\n",
    "def preprocess_image(file):\n",
    "    input_filepath = os.path.join('./','test_images_resized','{}.png'.format(file))\n",
    "    output_filepath = os.path.join('./','test_images_resized_preprocessed','{}.png'.format(file))\n",
    "    \n",
    "    img = cv2.imread(input_filepath)\n",
    "    img = circle_crop(img) \n",
    "    cv2.imwrite(output_filepath, cv2.resize(img, (IMG_SIZE,IMG_SIZE)))"
   ]
  },
  {
   "cell_type": "code",
   "execution_count": 57,
   "metadata": {},
   "outputs": [],
   "source": [
    "'''This Function uses Multi processing for faster saving of images into folder'''\n",
    "\n",
    "def multiprocess_image_processor(process:int, imgs:list):\n",
    "    \"\"\"\n",
    "    Inputs:\n",
    "        process: (int) number of process to run\n",
    "        imgs:(list) list of images\n",
    "    \"\"\"\n",
    "    print(f'MESSAGE: Running {process} process')\n",
    "    results = ThreadPool(process).map(preprocess_image, imgs)\n",
    "    return results"
   ]
  },
  {
   "cell_type": "code",
   "execution_count": null,
   "metadata": {
    "scrolled": true
   },
   "outputs": [],
   "source": [
    "# Use 6 cores\n",
    "multiprocess_image_processor(6, list(df_train_test.id_code.values))"
   ]
  }
 ],
 "metadata": {
  "kernelspec": {
   "display_name": "Python 3 (ipykernel)",
   "language": "python",
   "name": "python3"
  },
  "language_info": {
   "codemirror_mode": {
    "name": "ipython",
    "version": 3
   },
   "file_extension": ".py",
   "mimetype": "text/x-python",
   "name": "python",
   "nbconvert_exporter": "python",
   "pygments_lexer": "ipython3",
   "version": "3.9.12"
  }
 },
 "nbformat": 4,
 "nbformat_minor": 2
}
